{
 "cells": [
  {
   "cell_type": "code",
   "execution_count": 72,
   "metadata": {},
   "outputs": [],
   "source": [
    "import scipy\n",
    "import numpy as np\n",
    "import pandas as pd\n",
    "import os\n",
    "from PIL import Image"
   ]
  },
  {
   "cell_type": "markdown",
   "metadata": {},
   "source": [
    "# MAT 167: Homework Assignment #1"
   ]
  },
  {
   "cell_type": "markdown",
   "metadata": {},
   "source": [
    "### Problem 1."
   ]
  },
  {
   "cell_type": "markdown",
   "metadata": {},
   "source": [
    "(a)"
   ]
  },
  {
   "cell_type": "code",
   "execution_count": 106,
   "metadata": {},
   "outputs": [],
   "source": [
    "# reading the tiff file after putting it into the current working directory\n",
    "ind = os.listdir().index('plant.tiff')\n",
    "file = os.listdir()[ind]"
   ]
  },
  {
   "cell_type": "code",
   "execution_count": 107,
   "metadata": {},
   "outputs": [],
   "source": [
    "# using PIL package for reading and showing the .tiff file\n",
    "img = Image.open(file)\n",
    "img.show()"
   ]
  },
  {
   "cell_type": "markdown",
   "metadata": {},
   "source": [
    "(b)"
   ]
  },
  {
   "cell_type": "markdown",
   "metadata": {},
   "source": [
    "* Scipy was the best option for support with the dct function\n",
    "* According to Scipy Docs: \"For a single dimension array x, dct(x, norm='ortho') is equal to MATLAB dct(x).\"\n",
    "* https://docs.scipy.org/doc/scipy/reference/generated/scipy.fftpack.dct.html#scipy-fftpack-dct"
   ]
  },
  {
   "cell_type": "code",
   "execution_count": 108,
   "metadata": {},
   "outputs": [],
   "source": [
    "y = scipy.fftpack.dct(img, norm='ortho')\n",
    "\n",
    "# Indexing y at values where y is less than 10, and setting them equal to zero\n",
    "y[abs(y[:])<10] = 0\n",
    "\n",
    "# using numpy to reshape the matrix\n",
    "y = np.reshape(y,(256,256))"
   ]
  },
  {
   "cell_type": "code",
   "execution_count": 109,
   "metadata": {},
   "outputs": [],
   "source": [
    "# inverse dct used here\n",
    "xx = scipy.fftpack.idct(y)\n",
    "\n",
    "# In Python, to see image using PIL package, we need to conver the idct function results into\n",
    "# a usable Image from our array which needs to be converted into a unsigned 8-bit integer\n",
    "array = Image.fromarray(xx.astype('uint8')*255)\n",
    "im = array.show()"
   ]
  },
  {
   "cell_type": "markdown",
   "metadata": {},
   "source": [
    "(c)"
   ]
  },
  {
   "cell_type": "code",
   "execution_count": null,
   "metadata": {},
   "outputs": [],
   "source": []
  }
 ],
 "metadata": {
  "kernelspec": {
   "display_name": "Python 3",
   "language": "python",
   "name": "python3"
  },
  "language_info": {
   "codemirror_mode": {
    "name": "ipython",
    "version": 3
   },
   "file_extension": ".py",
   "mimetype": "text/x-python",
   "name": "python",
   "nbconvert_exporter": "python",
   "pygments_lexer": "ipython3",
   "version": "3.6.6"
  }
 },
 "nbformat": 4,
 "nbformat_minor": 2
}
